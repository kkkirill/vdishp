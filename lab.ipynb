{
 "cells": [
  {
   "cell_type": "code",
   "execution_count": 6,
   "metadata": {
    "pycharm": {
     "name": "#%%\n"
    }
   },
   "outputs": [],
   "source": [
    "import random\n",
    "from datetime import date as dd\n",
    "\n",
    "import ipywidgets as iw\n",
    "import matplotlib.colors as mcolors\n",
    "import pandas as pd\n",
    "from IPython.core.display import display\n",
    "from ipywidgets import interact, widgets\n",
    "\n",
    "from patterns import FileManager, Publisher, df_not_empty\n"
   ]
  },
  {
   "cell_type": "code",
   "execution_count": 13,
   "metadata": {
    "pycharm": {
     "is_executing": false,
     "name": "#%%\n"
    }
   },
   "outputs": [
    {
     "data": {
      "text/plain": "HBox(children=(FileUpload(value={}, accept='.json,.csv', description='Upload'), Button(description='Загрузить …",
      "application/vnd.jupyter.widget-view+json": {
       "version_major": 2,
       "version_minor": 0,
       "model_id": "f205fc95da2b467bab794fb0dee767e4"
      }
     },
     "metadata": {},
     "output_type": "display_data"
    }
   ],
   "source": [
    "df = pd.DataFrame()\n",
    "df.index.name = '№'\n",
    "\n",
    "file_manager, publisher = FileManager(), Publisher()\n",
    "\n",
    "file_uploader = iw.FileUpload(accept='.json,.csv', multiple=False)\n",
    "load_button = iw.Button(description='Загрузить данные')\n",
    "hbox = iw.HBox((file_uploader, load_button))\n",
    "\n",
    "colors = []\n",
    "cl_options = {\n",
    "    'style': {'description_width': '150px'},\n",
    "    'layout': {'width': '70%'}\n",
    "}\n",
    "\n",
    "def on_click(b):\n",
    "    global df, colors\n",
    "    [content], [metadata] = file_uploader.data or [''], file_uploader.metadata or [{'type': ''}]\n",
    "    df = file_manager.load_data(content, metadata)\n",
    "    colors = random.choices(list(mcolors.CSS4_COLORS.values()), k=len(df)+1)\n",
    "    \n",
    "publisher.register((load_button, on_click, 'click'))\n",
    "load_button.on_click(publisher)\n",
    "    \n",
    "display(hbox)"
   ]
  },
  {
   "cell_type": "code",
   "execution_count": 10,
   "metadata": {
    "pycharm": {
     "is_executing": false,
     "name": "#%%\n"
    },
    "scrolled": false
   },
   "outputs": [
    {
     "data": {
      "text/plain": "interactive(children=(Text(value='', description='Название проекта: ', layout=Layout(width='70%'), style=Descr…",
      "application/vnd.jupyter.widget-view+json": {
       "version_major": 2,
       "version_minor": 0,
       "model_id": "f168cab87ee843b8bf5ea8f0bc118e64"
      }
     },
     "metadata": {},
     "output_type": "display_data"
    }
   ],
   "source": [
    "@df_not_empty(target=df)\n",
    "def run_statistics_module():\n",
    "    @interact\n",
    "    def apply_filter(project_name=iw.Text(description='Название проекта: ', **cl_options), \n",
    "                     task_name=iw.Text(description='Название задачи: ', **cl_options), \n",
    "                     task_id=iw.IntText(description='Номер задачи: ', min=0, **cl_options), \n",
    "                     hour_effort=iw.IntText(description='Трудоёмкость: ', min=0, **cl_options), \n",
    "                     executor=iw.Text(description='Исполнитель: ', **cl_options),\n",
    "                     allow_unassigned_tasks=iw.Checkbox(description='Показывать не назначенные задачи', **cl_options),\n",
    "                     column=iw.Dropdown(description='Поле сортировки: ', options=['', *df.columns], **cl_options),\n",
    "                     order_type=iw.Dropdown(description='Тип сортировки: ', options=['<', '>'], **cl_options)):\n",
    "        \n",
    "        project_name_filter = df['название проекта'].str.startswith(project_name)\n",
    "        task_name_filter = df['название задачи'].str.startswith(task_name)\n",
    "        task_id_filter = df['id задачи'] == task_id if task_id != 0 else True\n",
    "        hour_effort_filter =  df['трудоёмкость'] == hour_effort if hour_effort != 0 else True\n",
    "        executor_filter_values = [executor, '-'] if allow_unassigned_tasks else [executor]\n",
    "        executor_filter = df['исполнитель'].str.contains('|'.join(executor_filter_values))\n",
    "        \n",
    "        filtered_df = df[project_name_filter & task_name_filter & task_id_filter & hour_effort_filter & executor_filter]\n",
    "            \n",
    "        if filtered_df.empty:\n",
    "            return filtered_df\n",
    "        \n",
    "        pie_labels = filtered_df['название проекта'].str.cat(filtered_df['название задачи'], sep =\" \")\n",
    "        pie_plot = filtered_df['трудоёмкость'].plot.pie(autopct='%1.1f%%',\n",
    "                                                        radius=2, \n",
    "                                                        pctdistance=0.8, \n",
    "                                                        labeldistance=1.1,\n",
    "                                                        labels=pie_labels,\n",
    "                                                        colors=colors)\n",
    "        pie_plot.set_ylabel('')\n",
    "        pie_plot.set_title('Отношение трудоёмкости задач', pad=100)\n",
    "    \n",
    "        executors = filtered_df.groupby('исполнитель')['исполнитель'].count().reset_index(name='кол-во исполнителей')\n",
    "        hist_plot = filtered_df.merge(executors, \n",
    "                                 left_on='исполнитель', \n",
    "                                 right_on='исполнитель').plot.hist(x='кол-во исполнителей', \n",
    "                                                                   y='трудоёмкость', \n",
    "                                                                   title='Изменение трудоёмкости к кол-ву исполнителей')\n",
    "        hist_plot.set_xlabel('трудоёмкость')\n",
    "        hist_plot.set_ylabel('кол-во исполнителей')\n",
    "        hist_plot.set_yticks(list(executors['кол-во исполнителей']) + [executors['кол-во исполнителей'].max() + 1])\n",
    "        \n",
    "        return filtered_df.sort_values(by=column, ascending=order_type == '<') if column else filtered_df\n",
    "    \n",
    "run_statistics_module()\n",
    "    "
   ]
  },
  {
   "cell_type": "code",
   "execution_count": 9,
   "metadata": {
    "pycharm": {
     "is_executing": false,
     "name": "#%%\n"
    },
    "scrolled": false
   },
   "outputs": [
    {
     "data": {
      "application/vnd.jupyter.widget-view+json": {
       "model_id": "322a8eb53e42408d98ddb500b8da9ff4",
       "version_major": 2,
       "version_minor": 0
      },
      "text/plain": [
       "interactive(children=(Dropdown(description='Название проекта: ', layout=Layout(width='70%'), options=('Project…"
      ]
     },
     "metadata": {},
     "output_type": "display_data"
    },
    {
     "data": {
      "application/vnd.jupyter.widget-view+json": {
       "model_id": "95814c21d59e4efab9ecf5f29256ef1b",
       "version_major": 2,
       "version_minor": 0
      },
      "text/plain": [
       "HBox(children=(Text(value='', continuous_update=False, description='Имя файла'), Dropdown(description='Тип фай…"
      ]
     },
     "metadata": {},
     "output_type": "display_data"
    }
   ],
   "source": [
    "@df_not_empty(target=df)\n",
    "def run_creating_report_module():\n",
    "    controls = {\n",
    "        'project_name': iw.Dropdown(description='Название проекта: ', options=df['название проекта'].unique(), **cl_options),\n",
    "        'task_name': iw.Dropdown(description='Название задачи: ', options=df['название задачи'].unique(), **cl_options),\n",
    "        'task_id': iw.Dropdown(description='Номер задачи: ', options=df['id задачи'].unique(), **cl_options), \n",
    "        'date': iw.DatePicker(description='Дата: ', value=dd.today(), **cl_options), \n",
    "        'active_time': iw.FloatSlider(description='Временные затраты: ', min=0, **cl_options),\n",
    "        'show_all': iw.Checkbox(description='Показывать все элементы', **cl_options)\n",
    "    }\n",
    "    widgets.jslink((controls['task_name'], 'index'), (controls['task_id'], 'index'))\n",
    "    \n",
    "    create_report_button = iw.Button(description='Создать отчёт')\n",
    "    report_name_field = iw.Text(description='Имя файла', continuous_update=False)\n",
    "    report_file_type_dropdown = iw.Dropdown(description='Тип файла', options=['csv', 'json'])\n",
    "    \n",
    "    r_df = df.copy()\n",
    "    r_df['дата'] = dd.today()\n",
    "    r_df['временные затраты'] = 0.0\n",
    "    r_df['остаток трудозатрат'] = r_df['трудоёмкость'].astype(float)\n",
    "    \n",
    "    def validate_filename_field(change):\n",
    "        if '/' in change['new'] or '\\\\' in change['new']:\n",
    "            report_name_field.value = change['old']\n",
    "    \n",
    "    def update_tasks(event):\n",
    "        target = r_df[r_df['название проекта'] == controls['project_name'].value]\n",
    "        controls['task_name'].options = target['название задачи']\n",
    "        controls['task_id'].options = target['id задачи']\n",
    "    \n",
    "    def update_task_bound_info(event):    \n",
    "        condition = (r_df['название проекта'] == controls['project_name'].value) & \\\n",
    "                    (r_df['название задачи'] == controls['task_name'].value) & \\\n",
    "                    (r_df['id задачи'] == controls['task_id'].value)\n",
    "        target = r_df[condition].iloc[0]\n",
    "\n",
    "        controls['active_time'].max = float(target['трудоёмкость'])\n",
    "        controls['date'].value = target['дата']\n",
    "        controls['active_time'].value = target['временные затраты']\n",
    "    \n",
    "    def create_report(project_name, task_name, task_id, date, active_time, show_all):\n",
    "        condition = (r_df['название проекта'] == project_name) & \\\n",
    "                    (r_df['название задачи'] == task_name) & \\\n",
    "                    (r_df['id задачи'] == task_id)\n",
    "        columns = ['дата', 'временные затраты', 'остаток трудозатрат']\n",
    "        \n",
    "        r_df.loc[condition, columns] = [date, active_time, r_df.loc[condition, 'трудоёмкость'] - active_time]        \n",
    "        return r_df if show_all else r_df[condition]\n",
    "    \n",
    "    def on_click(b):\n",
    "        file_type = report_file_type_dropdown.value\n",
    "        path = f'output/{report_name_field.value}.{file_type}'\n",
    "\n",
    "        file_manager.save_data(r_df, path)\n",
    "    \n",
    "    publisher.register((report_name_field, validate_filename_field, 'change'))\n",
    "    publisher.register((controls['project_name'], update_tasks, 'change'))\n",
    "    publisher.register((controls['task_id'], update_task_bound_info, 'change'))\n",
    "    publisher.register((create_report_button, on_click, 'click'))\n",
    "    \n",
    "    report_name_field.observe(publisher, 'value')\n",
    "    controls['project_name'].observe(publisher, 'value')\n",
    "    controls['task_id'].observe(publisher, 'value')\n",
    "    create_report_button.on_click(publisher)\n",
    "    \n",
    "    hbox = iw.HBox((report_name_field, report_file_type_dropdown, create_report_button))\n",
    "    \n",
    "    interact(create_report, **controls)\n",
    "    display(hbox)\n",
    "    \n",
    "    update_tasks(None)\n",
    "    update_task_bound_info(None)\n",
    "\n",
    "\n",
    "run_creating_report_module()\n"
   ]
  },
  {
   "cell_type": "code",
   "execution_count": null,
   "metadata": {},
   "outputs": [],
   "source": []
  }
 ],
 "metadata": {
  "kernelspec": {
   "display_name": "Python 3",
   "language": "python",
   "name": "python3"
  },
  "language_info": {
   "codemirror_mode": {
    "name": "ipython",
    "version": 3
   },
   "file_extension": ".py",
   "mimetype": "text/x-python",
   "name": "python",
   "nbconvert_exporter": "python",
   "pygments_lexer": "ipython3",
   "version": "3.8.0"
  },
  "pycharm": {
   "stem_cell": {
    "cell_type": "raw",
    "source": [],
    "metadata": {
     "collapsed": false
    }
   }
  }
 },
 "nbformat": 4,
 "nbformat_minor": 1
}