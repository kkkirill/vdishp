{
 "cells": [
  {
   "cell_type": "code",
   "execution_count": 11,
   "outputs": [
    {
     "name": "stdout",
     "text": [
      "            название проекта  название задачи   id задачи   трудоёмкость  \\\n",
      "№ проекта                                                                  \n",
      "0              Project ABRIL            Task1           1             19   \n",
      "1          Project ALPHABETH            Task2           2              6   \n",
      "2            Project BRUEGEL            Task3           3             23   \n",
      "3               Project EDEN            Task4           4             53   \n",
      "4                  Project H            Task1           1             19   \n",
      "5             Project MOTION            Task4           4             53   \n",
      "6               Project ROOM            Task5           5             72   \n",
      "7               Project UEFA            Task6           6              3   \n",
      "8             Project VIRTUS            Task5           5             72   \n",
      "9                 Project YM            Task7           7             35   \n",
      "\n",
      "           исполнитель  \n",
      "№ проекта               \n",
      "0                Abdul  \n",
      "1                Aiden  \n",
      "2               Freddy  \n",
      "3                Oskar  \n",
      "4              Charles  \n",
      "5                Angus  \n",
      "6                Marco  \n",
      "7                 Alex  \n",
      "8               Ciaran  \n",
      "9                 Eric  \n"
     ],
     "output_type": "stream"
    }
   ],
   "source": [
    "import patterns\n",
    "import pandas as pd\n",
    "import ipywidgets as iw\n",
    "\n",
    "df = pd.read_csv('input/input.csv')\n",
    "df.index.name = '№ проекта'\n",
    "# pd.read_json('input/input.json')\n",
    "\n",
    "print(df)\n",
    "\n"
   ],
   "metadata": {
    "collapsed": false,
    "pycharm": {
     "name": "#%%\n",
     "is_executing": false
    }
   }
  }
 ],
 "metadata": {
  "kernelspec": {
   "display_name": "Python 3",
   "language": "python",
   "name": "python3"
  },
  "language_info": {
   "codemirror_mode": {
    "name": "ipython",
    "version": 2
   },
   "file_extension": ".py",
   "mimetype": "text/x-python",
   "name": "python",
   "nbconvert_exporter": "python",
   "pygments_lexer": "ipython2",
   "version": "2.7.6"
  },
  "pycharm": {
   "stem_cell": {
    "cell_type": "raw",
    "source": [],
    "metadata": {
     "collapsed": false
    }
   }
  }
 },
 "nbformat": 4,
 "nbformat_minor": 0
}